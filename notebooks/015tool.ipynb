{
 "cells": [
  {
   "cell_type": "code",
   "execution_count": 6,
   "metadata": {},
   "outputs": [
    {
     "data": {
      "text/plain": [
       "\u001b[32m\"Hello, Zod!\"\u001b[39m"
      ]
     },
     "execution_count": 6,
     "metadata": {},
     "output_type": "execute_result"
    }
   ],
   "source": [
    "import { z } from \"npm:zod\";\n",
    "const stringSchema = z.string();\n",
    "stringSchema.parse(\"Hello, Zod!\");"
   ]
  },
  {
   "cell_type": "code",
   "execution_count": 10,
   "metadata": {},
   "outputs": [
    {
     "ename": "ZodError",
     "evalue": "[\n  {\n    \"code\": \"invalid_type\",\n    \"expected\": \"string\",\n    \"received\": \"number\",\n    \"path\": [],\n    \"message\": \"Expected string, received number\"\n  }\n]",
     "output_type": "error",
     "traceback": [
      "Stack trace:",
      "ZodError: [",
      "  {",
      "    \"code\": \"invalid_type\",",
      "    \"expected\": \"string\",",
      "    \"received\": \"number\",",
      "    \"path\": [],",
      "    \"message\": \"Expected string, received number\"",
      "  }",
      "]",
      "    at Object.get error (file:///C:/home/Projects/AI/ai-agents/node_modules/zod/lib/index.mjs:587:31)",
      "    at ZodString.parse (file:///C:/home/Projects/AI/ai-agents/node_modules/zod/lib/index.mjs:663:22)",
      "    at <anonymous>:1:35"
     ]
    }
   ],
   "source": [
    "stringSchema.parse(2323);"
   ]
  },
  {
   "cell_type": "code",
   "execution_count": 11,
   "metadata": {},
   "outputs": [
    {
     "data": {
      "text/plain": [
       "\u001b[33m42\u001b[39m"
      ]
     },
     "execution_count": 11,
     "metadata": {},
     "output_type": "execute_result"
    }
   ],
   "source": [
    "// 基础类型\n",
    "const stringSchema = z.string();\n",
    "const numberSchema = z.number();\n",
    "const booleanSchema = z.boolean();\n",
    "\n",
    "// 数组\n",
    "const stringArraySchema = z.array(z.string());\n",
    "stringArraySchema.parse([\"apple\", \"banana\", \"cherry\"]); \n",
    "\n",
    "// 对象\n",
    "const personSchema = z.object({\n",
    "  name: z.string(),\n",
    "  age: z.number(),\n",
    "  // 可选类型\n",
    "  isStudent: z.boolean().optional(),\n",
    "  // 默认值\n",
    "  home: z.string().default(\"no home\")\n",
    "});\n",
    "\n",
    "// 联合类型\n",
    "const mixedTypeSchema = z.union([z.string(), z.number()]);\n",
    "mixedTypeSchema.parse(\"hello\"); \n",
    "mixedTypeSchema.parse(42); \n"
   ]
  },
  {
   "cell_type": "code",
   "execution_count": 13,
   "metadata": {},
   "outputs": [
    {
     "data": {
      "text/plain": [
       "{\n",
       "  type: \u001b[32m\"object\"\u001b[39m,\n",
       "  properties: {\n",
       "    location: {\n",
       "      type: \u001b[32m\"string\"\u001b[39m,\n",
       "      description: \u001b[32m\"The city and state, e.g. San Francisco, CA\"\u001b[39m\n",
       "    },\n",
       "    unit: {\n",
       "      type: \u001b[32m\"string\"\u001b[39m,\n",
       "      enum: [ \u001b[32m\"celsius\"\u001b[39m, \u001b[32m\"fahrenheit\"\u001b[39m ],\n",
       "      description: \u001b[32m\"The unit of temperature\"\u001b[39m\n",
       "    }\n",
       "  },\n",
       "  required: [ \u001b[32m\"location\"\u001b[39m, \u001b[32m\"unit\"\u001b[39m ],\n",
       "  additionalProperties: \u001b[33mfalse\u001b[39m,\n",
       "  \u001b[32m\"$schema\"\u001b[39m: \u001b[32m\"http://json-schema.org/draft-07/schema#\"\u001b[39m\n",
       "}"
      ]
     },
     "execution_count": 13,
     "metadata": {},
     "output_type": "execute_result"
    }
   ],
   "source": [
    "import {zodToJsonSchema }from 'zod-to-json-schema'\n",
    "const getCurrentWeatherSchema = z.object({\n",
    "  location: z.string().describe(\"The city and state, e.g. San Francisco, CA\"),\n",
    "  unit: z.enum([\"celsius\", \"fahrenheit\"]).describe(\"The unit of temperature\"),\n",
    "});\n",
    "const paramSchema = zodToJsonSchema(getCurrentWeatherSchema)\n",
    "paramSchema"
   ]
  },
  {
   "cell_type": "code",
   "execution_count": 16,
   "metadata": {},
   "outputs": [
    {
     "data": {
      "text/plain": [
       "AIMessage {\n",
       "  \"id\": \"e0fb305f-4efb-47d8-abfd-8557dcb01a9f\",\n",
       "  \"content\": \"\",\n",
       "  \"additional_kwargs\": {\n",
       "    \"tool_calls\": [\n",
       "      {\n",
       "        \"index\": 0,\n",
       "        \"id\": \"call_0_9a23b7c6-8023-43d5-a599-133a8abec438\",\n",
       "        \"type\": \"function\",\n",
       "        \"function\": \"[Object]\"\n",
       "      }\n",
       "    ]\n",
       "  },\n",
       "  \"response_metadata\": {\n",
       "    \"tokenUsage\": {\n",
       "      \"promptTokens\": 196,\n",
       "      \"completionTokens\": 24,\n",
       "      \"totalTokens\": 220\n",
       "    },\n",
       "    \"finish_reason\": \"tool_calls\",\n",
       "    \"model_name\": \"deepseek-chat\",\n",
       "    \"usage\": {\n",
       "      \"prompt_tokens\": 196,\n",
       "      \"completion_tokens\": 24,\n",
       "      \"total_tokens\": 220,\n",
       "      \"prompt_tokens_details\": {\n",
       "        \"cached_tokens\": 0\n",
       "      },\n",
       "      \"prompt_cache_hit_tokens\": 0,\n",
       "      \"prompt_cache_miss_tokens\": 196\n",
       "    },\n",
       "    \"system_fingerprint\": \"fp_3a5770e1b4_prod0225\"\n",
       "  },\n",
       "  \"tool_calls\": [\n",
       "    {\n",
       "      \"name\": \"getCurrentWeather\",\n",
       "      \"args\": {\n",
       "        \"location\": \"北京\",\n",
       "        \"unit\": \"celsius\"\n",
       "      },\n",
       "      \"type\": \"tool_call\",\n",
       "      \"id\": \"call_0_9a23b7c6-8023-43d5-a599-133a8abec438\"\n",
       "    }\n",
       "  ],\n",
       "  \"invalid_tool_calls\": [],\n",
       "  \"usage_metadata\": {\n",
       "    \"output_tokens\": 24,\n",
       "    \"input_tokens\": 196,\n",
       "    \"total_tokens\": 220,\n",
       "    \"input_token_details\": {\n",
       "      \"cache_read\": 0\n",
       "    },\n",
       "    \"output_token_details\": {}\n",
       "  }\n",
       "}"
      ]
     },
     "execution_count": 16,
     "metadata": {},
     "output_type": "execute_result"
    }
   ],
   "source": [
    "import {ChatDeepSeek} from '@langchain/deepseek'\n",
    "import {zodToJsonSchema }from 'zod-to-json-schema'\n",
    "import { ChatPromptTemplate } from \"@langchain/core/prompts\";\n",
    "const model = new ChatDeepSeek({\n",
    "    model:'deepseek-chat',\n",
    "    temperature:0,\n",
    "})\n",
    "const modelWithTools = model.bind({\n",
    "    tools: [\n",
    "        {\n",
    "            type: \"function\",\n",
    "            function: {\n",
    "                name: \"getCurrentWeather\",\n",
    "                description: \"Get the current weather in a given location\",\n",
    "                parameters: zodToJsonSchema(getCurrentWeatherSchema),\n",
    "            }\n",
    "        }\n",
    "    ]\n",
    "})\n",
    "const prompt = ChatPromptTemplate.fromMessages([\n",
    "    [\"system\", \"You are a helpful assistant\"],\n",
    "    [\"human\", \"{input}\"]\n",
    "])\n",
    "const chain = prompt.pipe(modelWithTools)\n",
    "await chain.invoke({\n",
    "    input: \"北京的天气怎么样\"\n",
    "});"
   ]
  },
  {
   "cell_type": "code",
   "execution_count": null,
   "metadata": {},
   "outputs": [],
   "source": [
    "const getCurrentTimeSchema = z.object({\n",
    "  format: z\n",
    "    .enum([\"iso\", \"locale\", \"string\"])\n",
    "    .optional()\n",
    "    .describe(\"The format of the time, e.g. iso, locale, string\"),\n",
    "});\n",
    "\n",
    "const modelWithMultiTools = model.bind({\n",
    "    tools: [\n",
    "        {\n",
    "            type: \"function\",\n",
    "            function: {\n",
    "                name: \"getCurrentWeather\",\n",
    "                description: \"Get the current weather in a given location\",\n",
    "                parameters: zodToJsonSchema(getCurrentWeatherSchema)\n",
    "            }\n",
    "        },\n",
    "        {\n",
    "            type: \"function\",\n",
    "            function: {\n",
    "                name: \"getCurrentTime\",\n",
    "                description: \"Get the current time in a given format\",\n",
    "                parameters: zodToJsonSchema(getCurrentTimeSchema)\n",
    "            }\n",
    "        }\n",
    "    ]\n",
    "})\n"
   ]
  }
 ],
 "metadata": {
  "kernelspec": {
   "display_name": "Deno",
   "language": "typescript",
   "name": "deno"
  },
  "language_info": {
   "codemirror_mode": "typescript",
   "file_extension": ".ts",
   "mimetype": "text/x.typescript",
   "name": "typescript",
   "nbconvert_exporter": "script",
   "pygments_lexer": "typescript",
   "version": "5.7.3"
  }
 },
 "nbformat": 4,
 "nbformat_minor": 2
}
