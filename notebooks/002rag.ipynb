{
 "cells": [
  {
   "cell_type": "markdown",
   "metadata": {},
   "source": [
    "\n",
    "1. 加载数据\n",
    "2. 切分数据\n",
    "3. 嵌入（embeding），有一种算法是将切片转化为向量，存储到向量数据库中，之后用于检索\n",
    "4. 检索数据，通过向量间相似度的计算\n",
    "5. 增强prompt，让ai的回答范围限制在知识库的内容，比如 \n",
    "\n",
    "```\n",
    "你是一个 xxx 的聊天机器人，你的任务是根据给定的文档回答用户问题，并且回答时仅根据给定的文档，尽可能回答\n",
    "用户问题。如果你不知道，你可以回答“我不知道”。  \n",
    "这是文档:{docs}  \n",
    "用户的提问是:{question}\n",
    "```\n",
    "6. 生成\n",
    "\n",
    "\n"
   ]
  },
  {
   "cell_type": "markdown",
   "metadata": {},
   "source": []
  }
 ],
 "metadata": {
  "language_info": {
   "name": "python"
  }
 },
 "nbformat": 4,
 "nbformat_minor": 2
}
