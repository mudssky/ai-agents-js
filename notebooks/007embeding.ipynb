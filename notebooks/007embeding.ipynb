{
 "cells": [
  {
   "cell_type": "code",
   "execution_count": 2,
   "metadata": {},
   "outputs": [
    {
     "data": {
      "text/plain": [
       "[\n",
       "  Document {\n",
       "    pageContent: \u001b[32m\"鲁镇的酒店的格局，是和别处不同的：都是当街一个曲尺形的大柜台，柜里面预备着热水，可以随时温酒。做工的人，傍午傍晚散了工，每每花四文铜钱，买一碗酒，——这是二十多年前的事，现在每碗要涨到十文，——靠柜\"\u001b[39m,\n",
       "    metadata: { source: \u001b[32m\"data/kong.txt\"\u001b[39m, loc: { lines: { from: \u001b[33m2\u001b[39m, to: \u001b[33m2\u001b[39m } } },\n",
       "    id: \u001b[90mundefined\u001b[39m\n",
       "  },\n",
       "  Document {\n",
       "    pageContent: \u001b[32m\"多年前的事，现在每碗要涨到十文，——靠柜外站着，热热的喝了休息；倘肯多花一文，便可以买一碟盐煮笋，或者茴香豆，做下酒物了，如果出到十几文，那就能买一样荤菜，但这些顾客，多是短衣帮⑴，大抵没有这样阔绰⑵\"\u001b[39m,\n",
       "    metadata: { source: \u001b[32m\"data/kong.txt\"\u001b[39m, loc: { lines: { from: \u001b[33m2\u001b[39m, to: \u001b[33m2\u001b[39m } } },\n",
       "    id: \u001b[90mundefined\u001b[39m\n",
       "  },\n",
       "  Document {\n",
       "    pageContent: \u001b[32m\"些顾客，多是短衣帮⑴，大抵没有这样阔绰⑵。只有穿长衫的，才踱进店面隔壁的房子里，要酒要菜，慢慢地坐喝。\"\u001b[39m,\n",
       "    metadata: { source: \u001b[32m\"data/kong.txt\"\u001b[39m, loc: { lines: { from: \u001b[33m2\u001b[39m, to: \u001b[33m2\u001b[39m } } },\n",
       "    id: \u001b[90mundefined\u001b[39m\n",
       "  },\n",
       "  Document {\n",
       "    pageContent: \u001b[32m\"我从十二岁起，便在镇口的咸亨酒店里当伙计，掌柜说，样子太傻，怕侍候不了长衫主顾，就在外面做点事罢。外面的短衣主顾，虽然容易说话，但唠唠叨叨缠夹不清的也很不少。他们往往要亲眼看着黄酒从坛子里舀出，看过\"\u001b[39m,\n",
       "    metadata: { source: \u001b[32m\"data/kong.txt\"\u001b[39m, loc: { lines: { from: \u001b[33m3\u001b[39m, to: \u001b[33m3\u001b[39m } } },\n",
       "    id: \u001b[90mundefined\u001b[39m\n",
       "  },\n",
       "  Document {\n",
       "    pageContent: \u001b[32m\"他们往往要亲眼看着黄酒从坛子里舀出，看过壶子底里有水没有，又亲看将壶子放在热水里，然后放心：在这严重监督下，羼⑶水也很为难。所以过了几天，掌柜又说我干不了这事。幸亏荐头⑷的情面大，辞退不得，便改为专管\"\u001b[39m,\n",
       "    metadata: { source: \u001b[32m\"data/kong.txt\"\u001b[39m, loc: { lines: { from: \u001b[33m3\u001b[39m, to: \u001b[33m3\u001b[39m } } },\n",
       "    id: \u001b[90mundefined\u001b[39m\n",
       "  },\n",
       "  Document {\n",
       "    pageContent: \u001b[32m\"幸亏荐头⑷的情面大，辞退不得，便改为专管温酒的一种无聊职务了。\"\u001b[39m,\n",
       "    metadata: { source: \u001b[32m\"data/kong.txt\"\u001b[39m, loc: { lines: { from: \u001b[33m3\u001b[39m, to: \u001b[33m3\u001b[39m } } },\n",
       "    id: \u001b[90mundefined\u001b[39m\n",
       "  },\n",
       "  Document {\n",
       "    pageContent: \u001b[32m\"我从此便整天的站在柜台里，专管我的职务。虽然没有什么失职，但总觉得有些单调，有些无聊。掌柜是一副凶脸孔，主顾也没有好声气⑸，教人活泼不得；只有孔乙己到店，才可以笑几声，所以至今还记得。\"\u001b[39m,\n",
       "    metadata: { source: \u001b[32m\"data/kong.txt\"\u001b[39m, loc: { lines: { from: \u001b[33m4\u001b[39m, to: \u001b[33m4\u001b[39m } } },\n",
       "    id: \u001b[90mundefined\u001b[39m\n",
       "  },\n",
       "  Document {\n",
       "    pageContent: \u001b[32m\"孔乙己是站着喝酒而穿长衫的唯一的人。他身材很高大；青白脸色，皱纹间时常夹些伤痕；一部乱蓬蓬的花白的胡子。穿的虽然是长衫，可是又脏又破，似乎十多年没有补，也没有洗。他对人说话，总是满口之乎者也⑹，教人\"\u001b[39m,\n",
       "    metadata: { source: \u001b[32m\"data/kong.txt\"\u001b[39m, loc: { lines: { from: \u001b[33m5\u001b[39m, to: \u001b[33m5\u001b[39m } } },\n",
       "    id: \u001b[90mundefined\u001b[39m\n",
       "  },\n",
       "  Document {\n",
       "    pageContent: \u001b[32m\"洗。他对人说话，总是满口之乎者也⑹，教人半懂不懂的。因为他姓孔，别人便从描红纸上的“上大人孔乙己⑺”这半懂不懂的话里，替他取下一个绰号，叫作孔乙己。孔乙己一到店，所有喝酒的人便都看着他笑，有的叫道，“\"\u001b[39m,\n",
       "    metadata: { source: \u001b[32m\"data/kong.txt\"\u001b[39m, loc: { lines: { from: \u001b[33m5\u001b[39m, to: \u001b[33m5\u001b[39m } } },\n",
       "    id: \u001b[90mundefined\u001b[39m\n",
       "  },\n",
       "  Document {\n",
       "    pageContent: \u001b[32m\"，所有喝酒的人便都看着他笑，有的叫道，“孔乙己，你脸上又添上新伤疤了！”他不回答，对柜里说，“温两碗酒，要一碟茴香豆。”便排出九文大钱。他们又故意的高声嚷道，“你一定又偷了人家的东西了！”孔乙己睁大眼\"\u001b[39m,\n",
       "    metadata: { source: \u001b[32m\"data/kong.txt\"\u001b[39m, loc: { lines: { from: \u001b[33m5\u001b[39m, to: \u001b[33m5\u001b[39m } } },\n",
       "    id: \u001b[90mundefined\u001b[39m\n",
       "  },\n",
       "  Document {\n",
       "    pageContent: \u001b[32m\"你一定又偷了人家的东西了！”孔乙己睁大眼睛说，“你怎么这样凭空污人清白……”“什么清白？我前天亲眼见你偷了何家的书，吊着打。”孔乙己便涨红了脸，额上的青筋条条绽出，争辩道，“窃书不能算偷……窃书！……\"\u001b[39m,\n",
       "    metadata: { source: \u001b[32m\"data/kong.txt\"\u001b[39m, loc: { lines: { from: \u001b[33m5\u001b[39m, to: \u001b[33m5\u001b[39m } } },\n",
       "    id: \u001b[90mundefined\u001b[39m\n",
       "  },\n",
       "  Document {\n",
       "    pageContent: \u001b[32m\"出，争辩道，“窃书不能算偷……窃书！……读书人的事，能算偷么？”接连便是难懂的话，什么“君子固穷⑻”，什么“者乎”之类，引得众人都哄笑起来：店内外充满了快活的空气。\"\u001b[39m,\n",
       "    metadata: { source: \u001b[32m\"data/kong.txt\"\u001b[39m, loc: { lines: { from: \u001b[33m5\u001b[39m, to: \u001b[33m5\u001b[39m } } },\n",
       "    id: \u001b[90mundefined\u001b[39m\n",
       "  },\n",
       "  Document {\n",
       "    pageContent: \u001b[32m\"听人家背地里谈论，孔乙己原来也读过书，但终于没有进学⑼，又不会营生⑽；于是愈过愈穷，弄到将要讨饭了。幸而写得一笔好字，便替人家钞⑾钞书，换一碗饭吃。可惜他又有一样坏脾气，便是好喝懒做。坐不到几天，便\"\u001b[39m,\n",
       "    metadata: { source: \u001b[32m\"data/kong.txt\"\u001b[39m, loc: { lines: { from: \u001b[33m6\u001b[39m, to: \u001b[33m6\u001b[39m } } },\n",
       "    id: \u001b[90mundefined\u001b[39m\n",
       "  },\n",
       "  Document {\n",
       "    pageContent: \u001b[32m\"一样坏脾气，便是好喝懒做。坐不到几天，便连人和书籍纸张笔砚，一齐失踪。如是几次，叫他抄书的人也没有了。孔乙己没有法，便免不了偶然做些偷窃的事。但他在我们店里，品行却比别人都好，就是从不拖欠；虽然间或没\"\u001b[39m,\n",
       "    metadata: { source: \u001b[32m\"data/kong.txt\"\u001b[39m, loc: { lines: { from: \u001b[33m6\u001b[39m, to: \u001b[33m6\u001b[39m } } },\n",
       "    id: \u001b[90mundefined\u001b[39m\n",
       "  },\n",
       "  Document {\n",
       "    pageContent: \u001b[32m\"行却比别人都好，就是从不拖欠；虽然间或没有现钱，暂时记在粉板上，但不出一月，定然还清，从粉板上拭去了孔乙己的名字。\"\u001b[39m,\n",
       "    metadata: { source: \u001b[32m\"data/kong.txt\"\u001b[39m, loc: { lines: { from: \u001b[33m6\u001b[39m, to: \u001b[33m6\u001b[39m } } },\n",
       "    id: \u001b[90mundefined\u001b[39m\n",
       "  },\n",
       "  Document {\n",
       "    pageContent: \u001b[32m\"孔乙己喝过半碗酒，涨红的脸色渐渐复了原，旁人便又问道，“孔乙己，你当真认识字么？”孔乙己看着问他的人，显出不屑置辩的神气。他们便接着说道，“你怎的连半个秀才也捞不到呢？”孔乙己立刻显出颓唐不安模样，\"\u001b[39m,\n",
       "    metadata: { source: \u001b[32m\"data/kong.txt\"\u001b[39m, loc: { lines: { from: \u001b[33m7\u001b[39m, to: \u001b[33m7\u001b[39m } } },\n",
       "    id: \u001b[90mundefined\u001b[39m\n",
       "  },\n",
       "  Document {\n",
       "    pageContent: \u001b[32m\"捞不到呢？”孔乙己立刻显出颓唐不安模样，脸上笼上了一层灰色，嘴里说些话；这回可是全是之乎者也之类，一些不懂了。在这时候，众人也都哄笑起来：店内外充满了快活的空气。\"\u001b[39m,\n",
       "    metadata: { source: \u001b[32m\"data/kong.txt\"\u001b[39m, loc: { lines: { from: \u001b[33m7\u001b[39m, to: \u001b[33m7\u001b[39m } } },\n",
       "    id: \u001b[90mundefined\u001b[39m\n",
       "  },\n",
       "  Document {\n",
       "    pageContent: \u001b[32m\"在这些时候，我可以附和着笑，掌柜是决不责备的。而且掌柜见了孔乙己，也每每这样问他，引人发笑。孔乙己自己知道不能和他们谈天，便只好向孩子说话。有一回对我说道，“你读过书么？”我略略点一点头。他说，“读\"\u001b[39m,\n",
       "    metadata: { source: \u001b[32m\"data/kong.txt\"\u001b[39m, loc: { lines: { from: \u001b[33m8\u001b[39m, to: \u001b[33m8\u001b[39m } } },\n",
       "    id: \u001b[90mundefined\u001b[39m\n",
       "  },\n",
       "  Document {\n",
       "    pageContent: \u001b[32m\"你读过书么？”我略略点一点头。他说，“读过书，……我便考你一考。茴香豆的茴字，怎样写的？”我想，讨饭一样的人，也配考我么？便回过脸去，不再理会。孔乙己等了许久，很恳切的说道，“不能写罢？……我教给你，\"\u001b[39m,\n",
       "    metadata: { source: \u001b[32m\"data/kong.txt\"\u001b[39m, loc: { lines: { from: \u001b[33m8\u001b[39m, to: \u001b[33m8\u001b[39m } } },\n",
       "    id: \u001b[90mundefined\u001b[39m\n",
       "  },\n",
       "  Document {\n",
       "    pageContent: \u001b[32m\"很恳切的说道，“不能写罢？……我教给你，记着！这些字应该记着。将来做掌柜的时候，写账要用。”我暗想我和掌柜的等级还很远呢，而且我们掌柜也从不将茴香豆上账；又好笑，又不耐烦，懒懒的答他道，“谁要你教，不\"\u001b[39m,\n",
       "    metadata: { source: \u001b[32m\"data/kong.txt\"\u001b[39m, loc: { lines: { from: \u001b[33m8\u001b[39m, to: \u001b[33m8\u001b[39m } } },\n",
       "    id: \u001b[90mundefined\u001b[39m\n",
       "  },\n",
       "  Document {\n",
       "    pageContent: \u001b[32m\"，又不耐烦，懒懒的答他道，“谁要你教，不是草头底下一个来回的回字么？”孔乙己显出极高兴的样子，将两个指头的长指甲敲着柜台，点头说，“对呀对呀！……回字有四样写法⑿，你知道么？”我愈不耐烦了，努着嘴走远\"\u001b[39m,\n",
       "    metadata: { source: \u001b[32m\"data/kong.txt\"\u001b[39m, loc: { lines: { from: \u001b[33m8\u001b[39m, to: \u001b[33m8\u001b[39m } } },\n",
       "    id: \u001b[90mundefined\u001b[39m\n",
       "  },\n",
       "  Document {\n",
       "    pageContent: \u001b[32m\"⑿，你知道么？”我愈不耐烦了，努着嘴走远。孔乙己刚用指甲蘸了酒，想在柜上写字，见我毫不热心，便又叹一口气，显出极惋惜的样子。\"\u001b[39m,\n",
       "    metadata: { source: \u001b[32m\"data/kong.txt\"\u001b[39m, loc: { lines: { from: \u001b[33m8\u001b[39m, to: \u001b[33m8\u001b[39m } } },\n",
       "    id: \u001b[90mundefined\u001b[39m\n",
       "  },\n",
       "  Document {\n",
       "    pageContent: \u001b[32m\"有几回，邻居孩子听得笑声，也赶热闹，围住了孔乙己。他便给他们茴香豆吃，一人一颗。孩子吃完豆，仍然不散，眼睛都望着碟子。孔乙己着了慌，伸开五指将碟子罩住，弯腰下去说道，“不多了，我已经不多了。”直起身\"\u001b[39m,\n",
       "    metadata: { source: \u001b[32m\"data/kong.txt\"\u001b[39m, loc: { lines: { from: \u001b[33m9\u001b[39m, to: \u001b[33m9\u001b[39m } } },\n",
       "    id: \u001b[90mundefined\u001b[39m\n",
       "  },\n",
       "  Document {\n",
       "    pageContent: \u001b[32m\"去说道，“不多了，我已经不多了。”直起身又看一看豆，自己摇头说，“不多不多！多乎哉？不多也⒀。”于是这一群孩子都在笑声里走散了。\"\u001b[39m,\n",
       "    metadata: { source: \u001b[32m\"data/kong.txt\"\u001b[39m, loc: { lines: { from: \u001b[33m9\u001b[39m, to: \u001b[33m9\u001b[39m } } },\n",
       "    id: \u001b[90mundefined\u001b[39m\n",
       "  },\n",
       "  Document {\n",
       "    pageContent: \u001b[32m\"孔乙己是这样的使人快活，可是没有他，别人也便这么过。\"\u001b[39m,\n",
       "    metadata: { source: \u001b[32m\"data/kong.txt\"\u001b[39m, loc: { lines: { from: \u001b[33m10\u001b[39m, to: \u001b[33m10\u001b[39m } } },\n",
       "    id: \u001b[90mundefined\u001b[39m\n",
       "  },\n",
       "  Document {\n",
       "    pageContent: \u001b[32m\"有一天，大约是中秋前的两三天，掌柜正在慢慢的结账，取下粉板，忽然说，“孔乙己长久没有来了。还欠十九个钱呢！”我才也觉得他的确长久没有来了。一个喝酒的人说道，“他怎么会来？……他打折了腿了。”掌柜说，\"\u001b[39m,\n",
       "    metadata: { source: \u001b[32m\"data/kong.txt\"\u001b[39m, loc: { lines: { from: \u001b[33m11\u001b[39m, to: \u001b[33m11\u001b[39m } } },\n",
       "    id: \u001b[90mundefined\u001b[39m\n",
       "  },\n",
       "  Document {\n",
       "    pageContent: \u001b[32m\"他怎么会来？……他打折了腿了。”掌柜说，“哦！”“他总仍旧是偷。这一回，是自己发昏，竟偷到丁举人家里去了。他家的东西，偷得的么？”“后来怎么样？”“怎么样？先写服辩⒁，后来是打，打了大半夜，再打折了腿\"\u001b[39m,\n",
       "    metadata: { source: \u001b[32m\"data/kong.txt\"\u001b[39m, loc: { lines: { from: \u001b[33m11\u001b[39m, to: \u001b[33m11\u001b[39m } } },\n",
       "    id: \u001b[90mundefined\u001b[39m\n",
       "  },\n",
       "  Document {\n",
       "    pageContent: \u001b[32m\"服辩⒁，后来是打，打了大半夜，再打折了腿。”“后来呢？”“后来打折了腿了。”“打折了怎样呢？”“怎样？……谁晓得？许是死了。”掌柜也不再问，仍然慢慢的算他的账。\"\u001b[39m,\n",
       "    metadata: { source: \u001b[32m\"data/kong.txt\"\u001b[39m, loc: { lines: { from: \u001b[33m11\u001b[39m, to: \u001b[33m11\u001b[39m } } },\n",
       "    id: \u001b[90mundefined\u001b[39m\n",
       "  },\n",
       "  Document {\n",
       "    pageContent: \u001b[32m\"中秋之后，秋风是一天凉比一天，看看将近初冬；我整天的靠着火，也须穿上棉袄了。一天的下半天，没有一个顾客，我正合了眼坐着。忽然间听得一个声音，“温一碗酒。”这声音虽然极低，却很耳熟。看时又全没有人。站\"\u001b[39m,\n",
       "    metadata: { source: \u001b[32m\"data/kong.txt\"\u001b[39m, loc: { lines: { from: \u001b[33m12\u001b[39m, to: \u001b[33m12\u001b[39m } } },\n",
       "    id: \u001b[90mundefined\u001b[39m\n",
       "  },\n",
       "  Document {\n",
       "    pageContent: \u001b[32m\"音虽然极低，却很耳熟。看时又全没有人。站起来向外一望，那孔乙己便在柜台下对了门槛坐着。他脸上黑而且瘦，已经不成样子；穿一件破夹袄，盘着两腿，下面垫一个蒲包，用草绳在肩上挂住；见了我，又说道，“温一碗酒\"\u001b[39m,\n",
       "    metadata: { source: \u001b[32m\"data/kong.txt\"\u001b[39m, loc: { lines: { from: \u001b[33m12\u001b[39m, to: \u001b[33m12\u001b[39m } } },\n",
       "    id: \u001b[90mundefined\u001b[39m\n",
       "  },\n",
       "  Document {\n",
       "    pageContent: \u001b[32m\"绳在肩上挂住；见了我，又说道，“温一碗酒。”掌柜也伸出头去，一面说，“孔乙己么？你还欠十九个钱呢！”孔乙己很颓唐的仰面答道，“这……下回还清罢。这一回是现钱，酒要好。”掌柜仍然同平常一样，笑着对他说，\"\u001b[39m,\n",
       "    metadata: { source: \u001b[32m\"data/kong.txt\"\u001b[39m, loc: { lines: { from: \u001b[33m12\u001b[39m, to: \u001b[33m12\u001b[39m } } },\n",
       "    id: \u001b[90mundefined\u001b[39m\n",
       "  },\n",
       "  Document {\n",
       "    pageContent: \u001b[32m\"要好。”掌柜仍然同平常一样，笑着对他说，“孔乙己，你又偷了东西了！”但他这回却不十分分辩，单说了一句“不要取笑！”“取笑？要是不偷，怎么会打断腿？”孔乙己低声说道，“跌断，跌，跌……”他的眼色，很像恳\"\u001b[39m,\n",
       "    metadata: { source: \u001b[32m\"data/kong.txt\"\u001b[39m, loc: { lines: { from: \u001b[33m12\u001b[39m, to: \u001b[33m12\u001b[39m } } },\n",
       "    id: \u001b[90mundefined\u001b[39m\n",
       "  },\n",
       "  Document {\n",
       "    pageContent: \u001b[32m\"道，“跌断，跌，跌……”他的眼色，很像恳求掌柜，不要再提。此时已经聚集了几个人，便和掌柜都笑了。我温了酒，端出去，放在门槛上。他从破衣袋里摸出四文大钱，放在我手里，见他满手是泥，原来他便用这手走来的。\"\u001b[39m,\n",
       "    metadata: { source: \u001b[32m\"data/kong.txt\"\u001b[39m, loc: { lines: { from: \u001b[33m12\u001b[39m, to: \u001b[33m12\u001b[39m } } },\n",
       "    id: \u001b[90mundefined\u001b[39m\n",
       "  },\n",
       "  Document {\n",
       "    pageContent: \u001b[32m\"里，见他满手是泥，原来他便用这手走来的。不一会，他喝完酒，便又在旁人的说笑声中，坐着用这手慢慢走去了。\"\u001b[39m,\n",
       "    metadata: { source: \u001b[32m\"data/kong.txt\"\u001b[39m, loc: { lines: { from: \u001b[33m12\u001b[39m, to: \u001b[33m12\u001b[39m } } },\n",
       "    id: \u001b[90mundefined\u001b[39m\n",
       "  },\n",
       "  Document {\n",
       "    pageContent: \u001b[32m\"自此以后，又长久没有看见孔乙己。到了年关⒂，掌柜取下粉板说，“孔乙己还欠十九个钱呢！”到第二年的端午，又说“孔乙己还欠十九个钱呢！”到中秋可是没有说，再到年关也没有看见他。\"\u001b[39m,\n",
       "    metadata: { source: \u001b[32m\"data/kong.txt\"\u001b[39m, loc: { lines: { from: \u001b[33m13\u001b[39m, to: \u001b[33m13\u001b[39m } } },\n",
       "    id: \u001b[90mundefined\u001b[39m\n",
       "  },\n",
       "  Document {\n",
       "    pageContent: \u001b[32m\"我到现在终于没有见——大约孔乙己的确死了。\\r\\n一九一九年三月。\"\u001b[39m,\n",
       "    metadata: { source: \u001b[32m\"data/kong.txt\"\u001b[39m, loc: { lines: { from: \u001b[33m14\u001b[39m, to: \u001b[33m15\u001b[39m } } },\n",
       "    id: \u001b[90mundefined\u001b[39m\n",
       "  }\n",
       "]"
      ]
     },
     "execution_count": 2,
     "metadata": {},
     "output_type": "execute_result"
    }
   ],
   "source": [
    "import { TextLoader } from \"langchain/document_loaders/fs/text\";\n",
    "import { RecursiveCharacterTextSplitter } from \"langchain/text_splitter\";\n",
    "const loader = new TextLoader(\"data/kong.txt\");\n",
    "const docs = await loader.load();\n",
    "\n",
    "const splitter = new RecursiveCharacterTextSplitter({\n",
    "    chunkSize: 100,\n",
    "    chunkOverlap: 20,\n",
    "  });\n",
    "\n",
    "const splitDocs = await splitter.splitDocuments(docs);\n",
    "splitDocs"
   ]
  },
  {
   "cell_type": "code",
   "execution_count": 1,
   "metadata": {},
   "outputs": [
    {
     "ename": "ReferenceError",
     "evalue": "splitDocs is not defined",
     "output_type": "error",
     "traceback": [
      "Stack trace:",
      "ReferenceError: splitDocs is not defined",
      "    at <anonymous>:4:13"
     ]
    }
   ],
   "source": [
    "//deno-ignore-cell\n",
    "import { OpenAIEmbeddings } from \"@langchain/openai\";\n",
    "const embeddings = new OpenAIEmbeddings()\n",
    "console.log(splitDocs[0])\n",
    "// Document {\n",
    "//   pageContent: \"鲁镇的酒店的格局，是和别处不同的：都是当街一个曲尺形的大柜台，柜里面预备着热水，可以随时温酒。做工的人，傍午傍晚散了工，每每花四文铜钱，买一碗酒，——这是二十多年前的事，现在每碗要涨到十文，——靠柜外\",\n",
    "//   metadata: { source: \"data/kong.txt\", loc: { lines: { from: 1, to: 1 } } }\n",
    "// }\n"
   ]
  },
  {
   "cell_type": "markdown",
   "metadata": {},
   "source": [
    "bge-large和bge-m3都是智谱开源的embeding模型  \n",
    "large是中文专用模型，适合纯中文场景，并且模型1.3B较大，资源消耗高  \n",
    "m3是多语言模型，资源消耗更低  \n"
   ]
  },
  {
   "cell_type": "code",
   "execution_count": null,
   "metadata": {},
   "outputs": [
    {
     "data": {
      "text/plain": [
       "[\n",
       "    \u001b[33m0.008740378\u001b[39m,    \u001b[33m0.04719728\u001b[39m,  \u001b[33m-0.033101488\u001b[39m,   \u001b[33m0.026490076\u001b[39m, \u001b[33m-0.016458334\u001b[39m,\n",
       "   \u001b[33m-0.007930168\u001b[39m, \u001b[33m-0.0060368213\u001b[39m,   \u001b[33m0.038651697\u001b[39m,   \u001b[33m0.027293922\u001b[39m, \u001b[33m-0.029894743\u001b[39m,\n",
       "    \u001b[33m0.014001312\u001b[39m,   \u001b[33m0.013423827\u001b[39m,  \u001b[33m-0.049799044\u001b[39m, \u001b[33m-0.0127271665\u001b[39m,  \u001b[33m0.055749197\u001b[39m,\n",
       "   \u001b[33m0.0030935942\u001b[39m,   \u001b[33m0.029488508\u001b[39m,  \u001b[33m-0.009582613\u001b[39m, \u001b[33m0.00053053827\u001b[39m, \u001b[33m-0.038016077\u001b[39m,\n",
       "   \u001b[33m-0.008396971\u001b[39m,   \u001b[33m0.009748647\u001b[39m,  \u001b[33m-0.023752507\u001b[39m,   \u001b[33m0.056000393\u001b[39m, \u001b[33m0.0004296581\u001b[39m,\n",
       "   \u001b[33m0.0034583604\u001b[39m,  \u001b[33m-0.037966553\u001b[39m,   \u001b[33m0.028785648\u001b[39m,   \u001b[33m0.066896304\u001b[39m,  \u001b[33m0.036451742\u001b[39m,\n",
       "    \u001b[33m0.016272554\u001b[39m,  \u001b[33m-0.010934695\u001b[39m,   \u001b[33m0.026729824\u001b[39m,  \u001b[33m-0.014664751\u001b[39m,  \u001b[33m0.040016092\u001b[39m,\n",
       "   \u001b[33m-0.017349761\u001b[39m,  \u001b[33m-0.029412014\u001b[39m,  \u001b[33m-0.007202131\u001b[39m,  \u001b[33m-0.026093092\u001b[39m,    \u001b[33m0.0738953\u001b[39m,\n",
       "    \u001b[33m0.009295809\u001b[39m,   \u001b[33m0.001959285\u001b[39m,    \u001b[33m0.02944274\u001b[39m,   \u001b[33m0.020640664\u001b[39m, \u001b[33m-0.031330626\u001b[39m,\n",
       "    \u001b[33m-0.06177479\u001b[39m,  \u001b[33m-0.012812906\u001b[39m,  \u001b[33m-0.023647763\u001b[39m,   \u001b[33m-0.03839418\u001b[39m, \u001b[33m-0.008633445\u001b[39m,\n",
       "    \u001b[33m-0.02122242\u001b[39m,   \u001b[33m0.004130641\u001b[39m,   \u001b[33m0.044303004\u001b[39m,  \u001b[33m-0.024918107\u001b[39m, \u001b[33m-0.052432578\u001b[39m,\n",
       "    \u001b[33m0.029094325\u001b[39m, \u001b[33m-0.0005865712\u001b[39m,  \u001b[33m-0.004050862\u001b[39m,  \u001b[33m-0.046737757\u001b[39m,   \u001b[33m0.02026808\u001b[39m,\n",
       "    \u001b[33m-0.02235496\u001b[39m, \u001b[33m-0.0041085132\u001b[39m,    \u001b[33m0.01386025\u001b[39m,  \u001b[33m-0.007281756\u001b[39m, \u001b[33m0.0027739669\u001b[39m,\n",
       "    \u001b[33m0.062063575\u001b[39m,   \u001b[33m0.026642555\u001b[39m,   \u001b[33m0.050960347\u001b[39m,  \u001b[33m-0.026590403\u001b[39m,   \u001b[33m-0.0266551\u001b[39m,\n",
       "  \u001b[33m-0.0016769489\u001b[39m,   \u001b[33m0.043717537\u001b[39m,  \u001b[33m-0.018734777\u001b[39m,  \u001b[33m-0.017280508\u001b[39m,  \u001b[33m-0.01129639\u001b[39m,\n",
       "    \u001b[33m0.027472211\u001b[39m,  \u001b[33m-0.007818255\u001b[39m,   \u001b[33m0.018880531\u001b[39m,  \u001b[33m-0.014438486\u001b[39m,  \u001b[33m0.004413911\u001b[39m,\n",
       "    \u001b[33m0.041075245\u001b[39m,   \u001b[33m0.012397626\u001b[39m,   \u001b[33m0.032543804\u001b[39m,   \u001b[33m0.031242803\u001b[39m,  \u001b[33m-0.02366127\u001b[39m,\n",
       "   \u001b[33m-0.009380742\u001b[39m,   \u001b[33m0.016696243\u001b[39m, \u001b[33m-0.0013406677\u001b[39m,   \u001b[33m0.004778809\u001b[39m, \u001b[33m-0.056721617\u001b[39m,\n",
       "    \u001b[33m0.018335594\u001b[39m,  \u001b[33m0.0047367876\u001b[39m,  \u001b[33m-0.004377444\u001b[39m,  \u001b[33m-0.021177392\u001b[39m,  \u001b[33m0.014144245\u001b[39m,\n",
       "   \u001b[33m-0.024970781\u001b[39m,     \u001b[33m-0.036672\u001b[39m,  \u001b[33m0.0026365572\u001b[39m,    \u001b[33m0.05141933\u001b[39m, \u001b[33m0.0050144703\u001b[39m,\n",
       "  ... 924 more items\n",
       "]"
      ]
     },
     "execution_count": 4,
     "metadata": {},
     "output_type": "execute_result"
    }
   ],
   "source": [
    "import { OllamaEmbeddings } from \"npm:@langchain/ollama\";\n",
    "const embeddings = new OllamaEmbeddings({\n",
    "  model: \"bge-m3\",\n",
    "  baseUrl: \"http://localhost:11434\", // Default value\n",
    "});\n",
    "const res =await embeddings.embedQuery(splitDocs[0].pageContent)\n",
    "res"
   ]
  },
  {
   "cell_type": "markdown",
   "metadata": {},
   "source": [
    "## 创建 MemoryVectorStore\n",
    "\n",
    "这是在内存中构建的向量数据库  \n",
    "注意，因为 embedding 向量是需要有一定的花费的，所以仅在学习和测试时使用 MemoryVectorStore，而在真实项目中，搭建其他向量数据库，或者使用云数据库。  \n"
   ]
  },
  {
   "cell_type": "code",
   "execution_count": null,
   "metadata": {},
   "outputs": [],
   "source": [
    "import { MemoryVectorStore } from \"langchain/vectorstores/memory\";\n",
    "\n",
    "const vectorstore = new MemoryVectorStore(embeddings);\n",
    "await vectorstore.addDocuments(splitDocs);\n"
   ]
  },
  {
   "cell_type": "code",
   "execution_count": null,
   "metadata": {},
   "outputs": [
    {
     "data": {
      "text/plain": [
       "[\n",
       "  Document {\n",
       "    pageContent: \u001b[32m\"你读过书么？”我略略点一点头。他说，“读过书，……我便考你一考。茴香豆的茴字，怎样写的？”我想，讨饭一样的人，也配考我么？便回过脸去，不再理会。孔乙己等了许久，很恳切的说道，“不能写罢？……我教给你，\"\u001b[39m,\n",
       "    metadata: { source: \u001b[32m\"data/kong.txt\"\u001b[39m, loc: { lines: { from: \u001b[33m8\u001b[39m, to: \u001b[33m8\u001b[39m } } },\n",
       "    id: \u001b[90mundefined\u001b[39m\n",
       "  },\n",
       "  Document {\n",
       "    pageContent: \u001b[32m\"很恳切的说道，“不能写罢？……我教给你，记着！这些字应该记着。将来做掌柜的时候，写账要用。”我暗想我和掌柜的等级还很远呢，而且我们掌柜也从不将茴香豆上账；又好笑，又不耐烦，懒懒的答他道，“谁要你教，不\"\u001b[39m,\n",
       "    metadata: { source: \u001b[32m\"data/kong.txt\"\u001b[39m, loc: { lines: { from: \u001b[33m8\u001b[39m, to: \u001b[33m8\u001b[39m } } },\n",
       "    id: \u001b[90mundefined\u001b[39m\n",
       "  }\n",
       "]"
      ]
     },
     "execution_count": 6,
     "metadata": {},
     "output_type": "execute_result"
    }
   ],
   "source": [
    "// 创建一个 retriever，这也是可以直接从 vector store 的实例中自动生成，这里我们传入了参数 2，代表对应每个输入，我们想要返回相似度最高的两个文本内容\n",
    "const retriever = vectorstore.asRetriever(2)\n",
    "// 然后，我们就可以使用 retriever 来进行文档的提取\n",
    "await retriever.invoke(\"茴香豆是做什么用的\")\n",
    "// 可以看到结果提取出茴香豆相关的内容"
   ]
  },
  {
   "cell_type": "code",
   "execution_count": null,
   "metadata": {},
   "outputs": [
    {
     "data": {
      "text/plain": [
       "[\n",
       "  Document {\n",
       "    pageContent: \u001b[32m\"多年前的事，现在每碗要涨到十文，——靠柜外站着，热热的喝了休息；倘肯多花一文，便可以买一碟盐煮笋，或者茴香豆，做下酒物了，如果出到十几文，那就能买一样荤菜，但这些顾客，多是短衣帮⑴，大抵没有这样阔绰⑵\"\u001b[39m,\n",
       "    metadata: { source: \u001b[32m\"data/kong.txt\"\u001b[39m, loc: { lines: { from: \u001b[33m2\u001b[39m, to: \u001b[33m2\u001b[39m } } },\n",
       "    id: \u001b[90mundefined\u001b[39m\n",
       "  },\n",
       "  Document {\n",
       "    pageContent: \u001b[32m\"些顾客，多是短衣帮⑴，大抵没有这样阔绰⑵。只有穿长衫的，才踱进店面隔壁的房子里，要酒要菜，慢慢地坐喝。\"\u001b[39m,\n",
       "    metadata: { source: \u001b[32m\"data/kong.txt\"\u001b[39m, loc: { lines: { from: \u001b[33m2\u001b[39m, to: \u001b[33m2\u001b[39m } } },\n",
       "    id: \u001b[90mundefined\u001b[39m\n",
       "  }\n",
       "]"
      ]
     },
     "execution_count": 7,
     "metadata": {},
     "output_type": "execute_result"
    }
   ],
   "source": [
    "await retriever.invoke(\"下酒菜一般是什么？\")\n",
    "// 提取的时候，是根据相似度进行度量的，所以如果用户提问的特别简洁，并没有相应的关键词，就会出现提取的信息错误的问题，\n",
    "// 下面没有截取到孔乙己下酒物相关的（温两碗酒，要一碟茴香豆）分块"
   ]
  },
  {
   "cell_type": "code",
   "execution_count": null,
   "metadata": {},
   "outputs": [
    {
     "data": {
      "text/plain": [
       "[\n",
       "  Document {\n",
       "    pageContent: \u001b[32m\"孔乙己是这样的使人快活，可是没有他，别人也便这么过。\"\u001b[39m,\n",
       "    metadata: { source: \u001b[32m\"data/kong.txt\"\u001b[39m, loc: { lines: { from: \u001b[33m10\u001b[39m, to: \u001b[33m10\u001b[39m } } },\n",
       "    id: \u001b[90mundefined\u001b[39m\n",
       "  },\n",
       "  Document {\n",
       "    pageContent: \u001b[32m\"听人家背地里谈论，孔乙己原来也读过书，但终于没有进学⑼，又不会营生⑽；于是愈过愈穷，弄到将要讨饭了。幸而写得一笔好字，便替人家钞⑾钞书，换一碗饭吃。可惜他又有一样坏脾气，便是好喝懒做。坐不到几天，便\"\u001b[39m,\n",
       "    metadata: { source: \u001b[32m\"data/kong.txt\"\u001b[39m, loc: { lines: { from: \u001b[33m6\u001b[39m, to: \u001b[33m6\u001b[39m } } },\n",
       "    id: \u001b[90mundefined\u001b[39m\n",
       "  }\n",
       "]"
      ]
     },
     "execution_count": 8,
     "metadata": {},
     "output_type": "execute_result"
    }
   ],
   "source": [
    "// 如果涉及多层语意的情况，也会有问题，有运气的成分，所以返回更多的数据源就会有价值\n",
    "await retriever.invoke(\"孔乙己用什么谋生？\")"
   ]
  },
  {
   "cell_type": "markdown",
   "metadata": {},
   "source": [
    "## 构建本地vector store\n",
    "这里我们使用faiss，这是facebook开源的，node和python都可以使用\n",
    "\n",
    "也可以使用HNSWLib  \n",
    "\n",
    "另外faiss-node，使用pnpm直接安装，langchain里面会报导入错误。。。\n",
    "\n",
    "\n",
    "Faiss是轻量级库，适合小规模数据（百万级以下）\n",
    "python中可以用Milvus（十亿级）\n",
    "\n",
    "\n",
    "选型决策树\n",
    "根据需求快速匹配最合适的工具：\n",
    "\n",
    "1. 开发阶段验证或小型项目 → ChromaDB（简单、无依赖）。\n",
    "2. 生产环境且需全托管服务 → Pinecone（省心）或 Zilliz Cloud（超大规模）。\n",
    "3. 已有 PostgreSQL 数据库 → PGVector + pgvector（无需引入新组件）。\n",
    "4. 需要极致性能的本地实验 → FAISS（内存索引，无需网络延迟）。\n",
    "5. 企业级海量数据+复杂查询 → Milvus（自建）或 Weaviate（混合搜索）。\n"
   ]
  }
 ],
 "metadata": {
  "kernelspec": {
   "display_name": "Deno",
   "language": "typescript",
   "name": "deno"
  },
  "language_info": {
   "codemirror_mode": "typescript",
   "file_extension": ".ts",
   "mimetype": "text/x.typescript",
   "name": "typescript",
   "nbconvert_exporter": "script",
   "pygments_lexer": "typescript",
   "version": "5.7.3"
  }
 },
 "nbformat": 4,
 "nbformat_minor": 2
}
