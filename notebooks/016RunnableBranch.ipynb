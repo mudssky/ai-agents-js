{
 "cells": [
  {
   "cell_type": "code",
   "execution_count": 10,
   "metadata": {},
   "outputs": [
    {
     "data": {
      "text/plain": [
       "\u001b[32m\"科普\"\u001b[39m"
      ]
     },
     "execution_count": 10,
     "metadata": {},
     "output_type": "execute_result"
    }
   ],
   "source": [
    "import {deepSeekChatModel} from './models/index.ts'\n",
    "import {zodToJsonSchema }from 'zod-to-json-schema'\n",
    "import {z} from 'zod'\n",
    "import { ChatPromptTemplate } from \"@langchain/core/prompts\";\n",
    "import { RunnableSequence } from \"@langchain/core/runnables\";\n",
    "import {JsonOutputToolsParser} from '@langchain/core/output_parsers/openai_tools'\n",
    "const classifySchema = z.object({\n",
    "    type: z.enum([\"科普\", \"编程\", \"一般问题\"]).describe(\"用户提问的分类\")\n",
    "})\n",
    "const model = deepSeekChatModel.bind({  temperature: 0 })\n",
    "const modelWithTools = model.bind({\n",
    "    tools: [\n",
    "        {\n",
    "            type: \"function\",\n",
    "            function: {\n",
    "                name: \"classifyQuestion\",\n",
    "                description: \"对用户的提问进行分类\",\n",
    "                parameters: zodToJsonSchema(classifySchema),\n",
    "            }\n",
    "        }\n",
    "    ],\n",
    "    tool_choice: {\n",
    "        type: \"function\",\n",
    "        function: {\n",
    "           name: \"classifyQuestion\"\n",
    "        }\n",
    "    }\n",
    "})\n",
    "const prompt = ChatPromptTemplate.fromMessages([\n",
    "    [\"system\", `仔细思考，你有充足的时间进行严谨的思考，然后对用户的问题进行分类，\n",
    "    当你无法分类到特定分类时，可以分类到 \"一般问题\"`],\n",
    "    [\"human\", \"{input}\"]\n",
    "])\n",
    "const classifyChain = RunnableSequence.from([\n",
    "    prompt,\n",
    "    modelWithTools,\n",
    "   new JsonOutputToolsParser(),\n",
    "    (input) => {\n",
    "        const type = input[0]?.args?.type\n",
    "        return type ? type : \"一般问题\"\n",
    "    }\n",
    "])\n",
    "await classifyChain.invoke({\n",
    "    \"input\": \"鲸鱼是哺乳动物么？\"\n",
    "})\n"
   ]
  },
  {
   "cell_type": "code",
   "execution_count": 12,
   "metadata": {},
   "outputs": [
    {
     "data": {
      "text/plain": [
       "\u001b[32m\"编程\"\u001b[39m"
      ]
     },
     "execution_count": 12,
     "metadata": {},
     "output_type": "execute_result"
    }
   ],
   "source": [
    "await classifyChain.invoke({\n",
    "    \"input\": \"编写一个python代码生成斐波那契数列\"\n",
    "})\n"
   ]
  },
  {
   "cell_type": "code",
   "execution_count": 15,
   "metadata": {},
   "outputs": [
    {
     "data": {
      "text/plain": [
       "\u001b[32m\"感谢您的提问，这是来自 科普专家 的专业回答：\\n\"\u001b[39m +\n",
       "  \u001b[32m\"\\n\"\u001b[39m +\n",
       "  \u001b[32m\"是的，鲸鱼是哺乳动物。尽管它们生活在水中，外形与鱼类相似，但鲸鱼属于哺乳动物纲（Mammalia）中的鲸目（Cetacea）。以下是鲸鱼作为哺乳动物的几个关键特征：\\n\"\u001b[39m +\n",
       "  \u001b[32m\"\\n\"\u001b[39m +\n",
       "  \u001b[32m\"1. **恒温性**：鲸鱼是恒温动物，能够维持相对稳定的体温，这与鱼类不同，鱼类是变温动物。\\n\"\u001b[39m +\n",
       "  \u001b[32m\"\\n\"\u001b[39m +\n",
       "  \u001b[32m\"2. **呼吸方式**：鲸鱼通过肺呼吸，而不是通过鳃。它们需要定期浮出水面呼吸空气，通过头顶的喷水孔（blowhole）进行呼吸。\\n\"\u001b[39m +\n",
       "  \u001b[32m\"\\n\"\u001b[39m +\n",
       "  \u001b[32m\"3. **胎生和哺乳**：鲸鱼是胎生动物，幼鲸在母体内发育成熟后出生。出生后，幼鲸会通过哺乳的方式获取营养，母鲸会分泌乳汁喂养幼鲸。\\n\"\u001b[39m +\n",
       "  \u001b[32m\"\\n\"\u001b[39m +\n",
       "  \u001b[32m\"4. **毛发**：虽然成年鲸鱼体表几乎没有毛发，但它们在胚胎期和幼年期会有少量毛发，这是哺乳动物的一个特征。\\n\"\u001b[39m +\n",
       "  \u001b[32m\"\\n\"\u001b[39m +\n",
       "  \u001b[32m\"5. **心脏结构**：鲸鱼的心脏有四腔室，与所有哺乳动物一样，这有助于高效地输送氧气和营养物质。\\n\"\u001b[39m +\n",
       "  \u001b[32m\"\\n\"\u001b[39m +\n",
       "  \u001b[32m\"6. **骨骼结构**：鲸鱼的骨骼结构与陆生哺乳动物相似，尤其是它们的鳍状肢内部结构与哺乳动物的四肢骨骼相似。\\n\"\u001b[39m +\n",
       "  \u001b[32m\"\\n\"\u001b[39m +\n",
       "  \u001b[32m\"7. **社会行为**：鲸鱼表现出复杂的社会行为和交流方式，这也是哺乳动物的一个特征。\\n\"\u001b[39m +\n",
       "  \u001b[32m\"\\n\"\u001b[39m +\n",
       "  \u001b[32m\"综上所述，鲸鱼虽然生活在水中，但它们具备哺乳动物的所有关键特征，因此被归类为哺乳动物。\\n\"\u001b[39m"
      ]
     },
     "execution_count": 15,
     "metadata": {},
     "output_type": "execute_result"
    }
   ],
   "source": [
    "import { StringOutputParser } from \"@langchain/core/output_parsers\";\n",
    "import { PromptTemplate } from \"@langchain/core/prompts\";\n",
    "import { RunnableBranch  } from \"@langchain/core/runnables\";\n",
    "const answeringModel = deepSeekChatModel.bind({  temperature: 0.7 })\n",
    "\n",
    "const sciencePrompt = PromptTemplate.fromTemplate(\n",
    "  `作为一位科普专家，你需要解答以下问题，尽可能提供详细、准确和易于理解的答案：\n",
    "\n",
    "问题：{input}\n",
    "答案：`\n",
    ")\n",
    "    \n",
    "const programmingPrompt = PromptTemplate.fromTemplate(\n",
    "  `作为一位编程专家，你需要解答以下编程相关的问题，尽可能提供详细、准确和实用的答案：\n",
    "\n",
    "问题：{input}\n",
    "答案：`\n",
    ")\n",
    "\n",
    "const generalPrompt = PromptTemplate.fromTemplate(\n",
    "  `请回答以下一般性问题，尽可能提供全面和有深度的答案：\n",
    "\n",
    "问题：{input}\n",
    "答案：`\n",
    ")\n",
    "\n",
    "\n",
    "const scienceChain = RunnableSequence.from([\n",
    "    sciencePrompt,\n",
    "    answeringModel,\n",
    "    new StringOutputParser(),\n",
    "    {\n",
    "        output: input => input,\n",
    "        role: () => \"科普专家\"\n",
    "    }\n",
    "    \n",
    "])\n",
    "\n",
    "const programmingChain = RunnableSequence.from([\n",
    "    programmingPrompt,\n",
    "    answeringModel,\n",
    "    new StringOutputParser(),\n",
    "    {\n",
    "        output: input => input,\n",
    "        role: () => \"编程大师\"\n",
    "    }\n",
    "    \n",
    "])\n",
    "\n",
    "const generalChain = RunnableSequence.from([\n",
    "    generalPrompt,\n",
    "    answeringModel,\n",
    "    new StringOutputParser(),\n",
    "    {\n",
    "        output: input => input,\n",
    "        role: () => \"通识专家\"\n",
    "    }\n",
    "    \n",
    "])\n",
    "const branch = RunnableBranch.from([\n",
    "  [\n",
    "    (input => input.type.includes(\"科普\")),\n",
    "    scienceChain,\n",
    "  ],\n",
    "  [\n",
    "    (input => input.type.includes(\"编程\")),\n",
    "    programmingChain,\n",
    "  ],\n",
    "  generalChain\n",
    "]);\n",
    "\n",
    "const outputTemplate = PromptTemplate.fromTemplate(\n",
    "`感谢您的提问，这是来自 {role} 的专业回答：\n",
    "\n",
    "{output}\n",
    "`)\n",
    "\n",
    "\n",
    "const finalChain = RunnableSequence.from([\n",
    "    {\n",
    "        type: classifyChain,\n",
    "        input: input => input.input\n",
    "    },\n",
    "    branch,\n",
    "    (input) => outputTemplate.format(input),\n",
    "])\n",
    "const res = await finalChain.invoke({\n",
    "    \"input\": \"鲸鱼是哺乳动物么？\"\n",
    "})\n",
    "\n",
    "res"
   ]
  }
 ],
 "metadata": {
  "kernelspec": {
   "display_name": "Deno",
   "language": "typescript",
   "name": "deno"
  },
  "language_info": {
   "codemirror_mode": "typescript",
   "file_extension": ".ts",
   "mimetype": "text/x.typescript",
   "name": "typescript",
   "nbconvert_exporter": "script",
   "pygments_lexer": "typescript",
   "version": "5.7.3"
  }
 },
 "nbformat": 4,
 "nbformat_minor": 2
}
